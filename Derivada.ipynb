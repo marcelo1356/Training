{
 "cells": [
  {
   "cell_type": "code",
   "execution_count": 75,
   "metadata": {},
   "outputs": [],
   "source": [
    "import numpy as np\n",
    "import matplotlib.pyplot as plt"
   ]
  },
  {
   "cell_type": "code",
   "execution_count": 80,
   "metadata": {},
   "outputs": [
    {
     "data": {
      "image/png": "[encoded data removed]",
      "text/plain": [
       "<Figure size 432x288 with 1 Axes>"
      ]
     },
     "metadata": {
      "needs_background": "light"
     },
     "output_type": "display_data"
    },
    {
     "name": "stdout",
     "output_type": "stream",
     "text": [
      "[0.         0.00012566 0.00025133 0.00037699 0.00050266 0.00062832\n",
      " 0.00075399 0.00087965 0.00100532 0.00113098 0.00125665 0.00138231\n",
      " 0.00150798 0.00163364 0.00175931 0.00188497 0.00201064 0.0021363\n",
      " 0.00226197 0.00238763 0.0025133  0.00263896 0.00276463 0.00289029\n",
      " 0.00301596 0.00314162 0.00326729 0.00339295 0.00351862 0.00364428\n",
      " 0.00376995 0.00389561 0.00402128 0.00414694 0.00427261 0.00439827\n",
      " 0.00452394 0.0046496  0.00477527 0.00490093 0.0050266  0.00515226\n",
      " 0.00527793 0.00540359 0.00552926 0.00565492 0.00578059 0.00590625\n",
      " 0.00603192 0.00615758 0.00628325 0.00640891 0.00653458 0.00666024\n",
      " 0.00678591 0.00691157 0.00703724 0.0071629  0.00728857 0.00741423\n",
      " 0.0075399  0.00766556 0.00779123 0.00791689 0.00804256 0.00816822\n",
      " 0.00829389 0.00841955 0.00854522 0.00867088 0.00879655 0.00892221\n",
      " 0.00904788 0.00917354 0.00929921 0.00942487 0.00955054 0.0096762\n",
      " 0.00980187 0.00992753 0.0100532  0.01017886 0.01030453 0.01043019\n",
      " 0.01055586 0.01068152 0.01080719 0.01093285 0.01105852 0.01118418\n",
      " 0.01130985 0.01143551 0.01156118 0.01168684 0.01181251 0.01193817\n",
      " 0.01206384 0.0121895  0.01231517 0.01244083 0.0125665  0.01269216\n",
      " 0.01281783 0.01294349 0.01306916 0.01319482 0.01332049 0.01344615\n",
      " 0.01357182 0.01369748]\n",
      "[0 1 2 3 4 5 6 7 8 9]\n",
      "12.566370614359172\n"
     ]
    }
   ],
   "source": [
    "def df_dx(y,x):\n",
    "    h=x[1]-x[0]\n",
    "    df=0.5/h*(np.roll(y,-1)-np.roll(y,1)) # ROLL rueda el vestor mas o menos un espacio\n",
    "    df[0]=1/h*(y[1]-y[0])\n",
    "    df[-1]=1/h*(y[-1]-y[-2])\n",
    "    return(df)\n",
    "\n",
    "def func(x):\n",
    "    return x*np.sin(x)\n",
    "\n",
    "def df_dx_exact(x):\n",
    "    return np.sin(x)+x*np.cos(x)\n",
    "\n",
    "X=np.linspace(0,4*np.pi,int(1E5))\n",
    "F=func(X)\n",
    "dF=df_dx(F,X)\n",
    "dF_exact = df_dx_exact(X)\n",
    "plt.plot(X,F,color='blue',label='funcion')\n",
    "plt.plot(X,dF,color='red',label='derivada')\n",
    "plt.plot(X[0:-1:100],dF_exact[0:-1:10],'o',color='black',label='funcion')\n",
    "plt.show()\n",
    "\n",
    "T=np.arange(10)\n",
    "\n",
    "print(X[0:-1:100])\n"
   ]
  },
  {
   "cell_type": "code",
   "execution_count": 81,
   "metadata": {},
   "outputs": [
    {
     "name": "stdout",
     "output_type": "stream",
     "text": [
      "[3. 6. 9.]\n"
     ]
    }
   ],
   "source": [
    "M=np.linspace(1,100,100)\n",
    "print(M[2:10:3])"
   ]
  },
  {
   "cell_type": "code",
   "execution_count": 85,
   "metadata": {},
   "outputs": [
    {
     "ename": "TypeError",
     "evalue": "slice indices must be integers or None or have an __index__ method",
     "output_type": "error",
     "traceback": [
      "\u001b[0;31m---------------------------------------------------------------------------\u001b[0m",
      "\u001b[0;31mTypeError\u001b[0m                                 Traceback (most recent call last)",
      "\u001b[0;32m<ipython-input-85-b81ed0c3df86>\u001b[0m in \u001b[0;36m<module>\u001b[0;34m\u001b[0m\n\u001b[0;32m----> 1\u001b[0;31m \u001b[0mprint\u001b[0m\u001b[0;34m(\u001b[0m\u001b[0mX\u001b[0m\u001b[0;34m[\u001b[0m\u001b[0;36m0\u001b[0m\u001b[0;34m:\u001b[0m\u001b[0;34m-\u001b[0m\u001b[0;36m1\u001b[0m\u001b[0;34m:\u001b[0m\u001b[0;36m5E3\u001b[0m\u001b[0;34m]\u001b[0m\u001b[0;34m)\u001b[0m\u001b[0;34m\u001b[0m\u001b[0;34m\u001b[0m\u001b[0m\n\u001b[0m",
      "\u001b[0;31mTypeError\u001b[0m: slice indices must be integers or None or have an __index__ method"
     ]
    }
   ],
   "source": [
    "print(X[0:-1:int(5E3)])"
   ]
  },
  {
   "cell_type": "code",
   "execution_count": null,
   "metadata": {},
   "outputs": [],
   "source": []
  }
 ],
 "metadata": {
  "kernelspec": {
   "display_name": "Python 3.6.9 64-bit",
   "language": "python",
   "name": "python36964bit374924eb9e7741d998b5a35001d0c326"
  },
  "language_info": {
   "codemirror_mode": {
    "name": "ipython",
    "version": 3
   },
   "file_extension": ".py",
   "mimetype": "text/x-python",
   "name": "python",
   "nbconvert_exporter": "python",
   "pygments_lexer": "ipython3",
   "version": "3.6.9"
  }
 },
 "nbformat": 4,
 "nbformat_minor": 4
}
